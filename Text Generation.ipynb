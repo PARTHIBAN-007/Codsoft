{
 "cells": [
  {
   "cell_type": "code",
   "execution_count": 1,
   "metadata": {},
   "outputs": [],
   "source": [
    "import pandas as pd\n",
    "import numpy as np\n",
    "import matplotlib.pyplot as plt\n",
    "import seaborn as sns\n",
    "import tensorflow as tf\n",
    "from tensorflow import keras\n"
   ]
  },
  {
   "cell_type": "code",
   "execution_count": 3,
   "metadata": {},
   "outputs": [],
   "source": [
    "df = pd.read_csv(\"english.csv\")"
   ]
  },
  {
   "cell_type": "code",
   "execution_count": 4,
   "metadata": {},
   "outputs": [
    {
     "name": "stdout",
     "output_type": "stream",
     "text": [
      "<class 'pandas.core.frame.DataFrame'>\n",
      "RangeIndex: 3410 entries, 0 to 3409\n",
      "Data columns (total 2 columns):\n",
      " #   Column  Non-Null Count  Dtype \n",
      "---  ------  --------------  ----- \n",
      " 0   image   3410 non-null   object\n",
      " 1   label   3410 non-null   object\n",
      "dtypes: object(2)\n",
      "memory usage: 53.4+ KB\n"
     ]
    }
   ],
   "source": [
    "df.info()"
   ]
  },
  {
   "cell_type": "code",
   "execution_count": 6,
   "metadata": {},
   "outputs": [],
   "source": [
    "from sklearn.utils import resample\n",
    "\n",
    "df =resample(df,n_samples=500,replace=False,random_state=42)"
   ]
  },
  {
   "cell_type": "code",
   "execution_count": 7,
   "metadata": {},
   "outputs": [
    {
     "data": {
      "text/html": [
       "<div>\n",
       "<style scoped>\n",
       "    .dataframe tbody tr th:only-of-type {\n",
       "        vertical-align: middle;\n",
       "    }\n",
       "\n",
       "    .dataframe tbody tr th {\n",
       "        vertical-align: top;\n",
       "    }\n",
       "\n",
       "    .dataframe thead th {\n",
       "        text-align: right;\n",
       "    }\n",
       "</style>\n",
       "<table border=\"1\" class=\"dataframe\">\n",
       "  <thead>\n",
       "    <tr style=\"text-align: right;\">\n",
       "      <th></th>\n",
       "      <th>image</th>\n",
       "      <th>label</th>\n",
       "    </tr>\n",
       "  </thead>\n",
       "  <tbody>\n",
       "    <tr>\n",
       "      <th>3135</th>\n",
       "      <td>Img/img058-001.png</td>\n",
       "      <td>v</td>\n",
       "    </tr>\n",
       "    <tr>\n",
       "      <th>1789</th>\n",
       "      <td>Img/img033-030.png</td>\n",
       "      <td>W</td>\n",
       "    </tr>\n",
       "    <tr>\n",
       "      <th>170</th>\n",
       "      <td>Img/img004-006.png</td>\n",
       "      <td>3</td>\n",
       "    </tr>\n",
       "    <tr>\n",
       "      <th>680</th>\n",
       "      <td>Img/img013-021.png</td>\n",
       "      <td>C</td>\n",
       "    </tr>\n",
       "    <tr>\n",
       "      <th>2803</th>\n",
       "      <td>Img/img051-054.png</td>\n",
       "      <td>o</td>\n",
       "    </tr>\n",
       "  </tbody>\n",
       "</table>\n",
       "</div>"
      ],
      "text/plain": [
       "                   image label\n",
       "3135  Img/img058-001.png     v\n",
       "1789  Img/img033-030.png     W\n",
       "170   Img/img004-006.png     3\n",
       "680   Img/img013-021.png     C\n",
       "2803  Img/img051-054.png     o"
      ]
     },
     "execution_count": 7,
     "metadata": {},
     "output_type": "execute_result"
    }
   ],
   "source": [
    "df.head()"
   ]
  },
  {
   "cell_type": "code",
   "execution_count": 8,
   "metadata": {},
   "outputs": [
    {
     "data": {
      "text/plain": [
       "image    0\n",
       "label    0\n",
       "dtype: int64"
      ]
     },
     "execution_count": 8,
     "metadata": {},
     "output_type": "execute_result"
    }
   ],
   "source": [
    "df.isnull().sum()"
   ]
  },
  {
   "cell_type": "code",
   "execution_count": 9,
   "metadata": {},
   "outputs": [
    {
     "data": {
      "text/plain": [
       "0"
      ]
     },
     "execution_count": 9,
     "metadata": {},
     "output_type": "execute_result"
    }
   ],
   "source": [
    "df.duplicated().sum()"
   ]
  },
  {
   "cell_type": "code",
   "execution_count": 10,
   "metadata": {},
   "outputs": [
    {
     "data": {
      "text/plain": [
       "label\n",
       "3    17\n",
       "s    14\n",
       "7    14\n",
       "4    13\n",
       "5    13\n",
       "     ..\n",
       "J     4\n",
       "Z     4\n",
       "b     3\n",
       "p     3\n",
       "c     3\n",
       "Name: count, Length: 62, dtype: int64"
      ]
     },
     "execution_count": 10,
     "metadata": {},
     "output_type": "execute_result"
    }
   ],
   "source": [
    "df[\"label\"].value_counts()"
   ]
  },
  {
   "cell_type": "code",
   "execution_count": 11,
   "metadata": {},
   "outputs": [
    {
     "name": "stdout",
     "output_type": "stream",
     "text": [
      "(500, 500, 500)\n"
     ]
    }
   ],
   "source": [
    "from PIL import Image\n",
    "images = df[\"image\"]\n",
    "output=[]\n",
    "for path in images:\n",
    "    \n",
    "    image = Image.open(path)\n",
    "    image = image.convert(\"L\")\n",
    "    image = image.resize((500,500))\n",
    "    image = np.array(image)\n",
    "    output.append(image)\n",
    "\n",
    "image_data = np.array(output)\n",
    "image_data = image_data/255.0\n",
    "\n",
    "print(image_data.shape)"
   ]
  },
  {
   "cell_type": "code",
   "execution_count": 12,
   "metadata": {},
   "outputs": [],
   "source": [
    "import tensorflow as tf\n",
    "from tensorflow.keras import layers, models\n",
    "from tensorflow.keras.models import Model\n",
    "from tensorflow.keras.layers import Input, Embedding, LSTM, Dense, Reshape, Conv2D, BatchNormalization, UpSampling2D"
   ]
  },
  {
   "cell_type": "code",
   "execution_count": 13,
   "metadata": {},
   "outputs": [
    {
     "data": {
      "text/plain": [
       "<matplotlib.image.AxesImage at 0x1b385bea240>"
      ]
     },
     "execution_count": 13,
     "metadata": {},
     "output_type": "execute_result"
    },
    {
     "data": {
      "image/png": "[encoded data removed]",
      "text/plain": [
       "<Figure size 640x480 with 1 Axes>"
      ]
     },
     "metadata": {},
     "output_type": "display_data"
    }
   ],
   "source": [
    "plt.gray()\n",
    "plt.imshow(image_data[200])"
   ]
  },
  {
   "cell_type": "code",
   "execution_count": 14,
   "metadata": {},
   "outputs": [],
   "source": [
    "text_data = df[\"label\"]\n",
    "\n",
    "tokenizer = tf.keras.preprocessing.text.Tokenizer(char_level=True,lower=False)\n",
    "tokenizer.fit_on_texts(text_data)\n",
    "\n",
    "# Convert text data to sequences\n",
    "text_sequences = tokenizer.texts_to_sequences(text_data)\n",
    "\n",
    "# Padding sequences for a consistent input size\n",
    "max_text_length = max(len(seq) for seq in text_sequences)\n",
    "padded_text_sequences = tf.keras.preprocessing.sequence.pad_sequences(text_sequences, maxlen=max_text_length)"
   ]
  },
  {
   "cell_type": "code",
   "execution_count": 15,
   "metadata": {},
   "outputs": [
    {
     "data": {
      "text/plain": [
       "62"
      ]
     },
     "execution_count": 15,
     "metadata": {},
     "output_type": "execute_result"
    }
   ],
   "source": [
    "len(tokenizer.word_index)"
   ]
  },
  {
   "cell_type": "code",
   "execution_count": 16,
   "metadata": {},
   "outputs": [
    {
     "name": "stdout",
     "output_type": "stream",
     "text": [
      "Epoch 1/10\n",
      "\u001b[1m8/8\u001b[0m \u001b[32m━━━━━━━━━━━━━━━━━━━━\u001b[0m\u001b[37m\u001b[0m \u001b[1m36s\u001b[0m 3s/step - loss: 0.9395\n",
      "Epoch 2/10\n",
      "\u001b[1m8/8\u001b[0m \u001b[32m━━━━━━━━━━━━━━━━━━━━\u001b[0m\u001b[37m\u001b[0m \u001b[1m24s\u001b[0m 2s/step - loss: 0.9257\n",
      "Epoch 3/10\n",
      "\u001b[1m8/8\u001b[0m \u001b[32m━━━━━━━━━━━━━━━━━━━━\u001b[0m\u001b[37m\u001b[0m \u001b[1m32s\u001b[0m 4s/step - loss: 0.9138\n",
      "Epoch 4/10\n",
      "\u001b[1m8/8\u001b[0m \u001b[32m━━━━━━━━━━━━━━━━━━━━\u001b[0m\u001b[37m\u001b[0m \u001b[1m51s\u001b[0m 6s/step - loss: 0.8983\n",
      "Epoch 5/10\n",
      "\u001b[1m8/8\u001b[0m \u001b[32m━━━━━━━━━━━━━━━━━━━━\u001b[0m\u001b[37m\u001b[0m \u001b[1m54s\u001b[0m 3s/step - loss: 0.8790\n",
      "Epoch 6/10\n",
      "\u001b[1m8/8\u001b[0m \u001b[32m━━━━━━━━━━━━━━━━━━━━\u001b[0m\u001b[37m\u001b[0m \u001b[1m36s\u001b[0m 3s/step - loss: 0.8509\n",
      "Epoch 7/10\n",
      "\u001b[1m8/8\u001b[0m \u001b[32m━━━━━━━━━━━━━━━━━━━━\u001b[0m\u001b[37m\u001b[0m \u001b[1m44s\u001b[0m 5s/step - loss: 0.7989\n",
      "Epoch 8/10\n",
      "\u001b[1m8/8\u001b[0m \u001b[32m━━━━━━━━━━━━━━━━━━━━\u001b[0m\u001b[37m\u001b[0m \u001b[1m30s\u001b[0m 3s/step - loss: 0.7039\n",
      "Epoch 9/10\n",
      "\u001b[1m8/8\u001b[0m \u001b[32m━━━━━━━━━━━━━━━━━━━━\u001b[0m\u001b[37m\u001b[0m \u001b[1m28s\u001b[0m 3s/step - loss: 0.5383\n",
      "Epoch 10/10\n",
      "\u001b[1m8/8\u001b[0m \u001b[32m━━━━━━━━━━━━━━━━━━━━\u001b[0m\u001b[37m\u001b[0m \u001b[1m34s\u001b[0m 3s/step - loss: 0.3044\n"
     ]
    },
    {
     "data": {
      "text/plain": [
       "<keras.src.callbacks.history.History at 0x1b385fb32c0>"
      ]
     },
     "execution_count": 16,
     "metadata": {},
     "output_type": "execute_result"
    }
   ],
   "source": [
    "model = models.Sequential()\n",
    "model.add(layers.Embedding(input_dim=len(tokenizer.word_index) + 1, output_dim=20))\n",
    "model.add(layers.LSTM(524))\n",
    "model.add(layers.Dense(500*500, activation='relu'))\n",
    "model.add(layers.Reshape((500, 500, 1)))  \n",
    "model.compile(optimizer='adam', loss='mean_squared_error')\n",
    "\n",
    "# Train the model\n",
    "model.fit(np.array(padded_text_sequences), image_data, epochs=10, batch_size=64)\n"
   ]
  },
  {
   "cell_type": "code",
   "execution_count": 17,
   "metadata": {},
   "outputs": [
    {
     "data": {
      "image/png": "[encoded data removed]",
      "text/plain": [
       "<Figure size 100x100 with 1 Axes>"
      ]
     },
     "metadata": {},
     "output_type": "display_data"
    }
   ],
   "source": [
    "white_image = np.ones((500, 500)) * 255\n",
    "fig,ax = plt.subplots(figsize = (1,1))\n",
    "plt.axis('off')\n",
    "plt.imshow(white_image,cmap='gray', vmin=0, vmax=255)\n",
    "plt.show()"
   ]
  },
  {
   "cell_type": "code",
   "execution_count": 18,
   "metadata": {},
   "outputs": [],
   "source": [
    "def get_out_image(text=\"Sample\",figsize=(10,6),crop_size=(250,500)):\n",
    "    \n",
    "    mystr = text\n",
    "    textlist = list(mystr)\n",
    "\n",
    "    predicted_images=[]\n",
    "\n",
    "    for new_text in textlist:\n",
    "        if (new_text==\" \"):\n",
    "            white_image = np.ones((500, 500))*249\n",
    "            predicted_images.append(white_image)\n",
    "        else:\n",
    "            new_text_sequence = tokenizer.texts_to_sequences([new_text])\n",
    "            predicted_image = model.predict(np.array(new_text_sequence),verbose=5)[0]\n",
    "            predicted_image = predicted_image.reshape(500,500)\n",
    "            predicted_images.append(predicted_image)\n",
    "\n",
    "    directory_path = 'out_images'\n",
    "\n",
    "\n",
    "    import os\n",
    "    os.mkdir(\"out_images\")\n",
    "\n",
    "    predicted_images = np.array(predicted_images)\n",
    "\n",
    "    for new_text,image in zip(textlist,predicted_images):\n",
    "        image_path = f\"out_images/{new_text}.png\"\n",
    "        fig = plt.figure(figsize=(5,5))\n",
    "        if (new_text==\" \"):\n",
    "            fig.figimage(image,vmin=0,vmax=255)\n",
    "        else:\n",
    "            fig.figimage(image)\n",
    "        plt.savefig(image_path)\n",
    "        plt.close(fig)\n",
    "\n",
    "\n",
    "    def center_crop(image, target_size):\n",
    "        width, height = image.size\n",
    "        left = (width - target_size[0]) // 2\n",
    "        top = (height - target_size[1]) // 2\n",
    "        right = (width + target_size[0]) // 2\n",
    "        bottom = (height + target_size[1]) // 2\n",
    "        return image.crop((left, top, right, bottom))\n",
    "\n",
    "    def merge_images(image_list):\n",
    "\n",
    "        image_size = image_list[0].size\n",
    "        merged_image = np.zeros((image_size[1], len(image_list) * image_size[0]))\n",
    "\n",
    "        for i, image in enumerate(image_list):\n",
    "            merged_image[:, i * image_size[0] : (i + 1) * image_size[0]] = np.array(image)\n",
    "\n",
    "        return merged_image\n",
    "\n",
    "    images = []\n",
    "    for char in textlist:\n",
    "        # Load image (replace 'path_to_images' with the actual path)\n",
    "        image_path = f\"out_images/{char}.png\"\n",
    "        img = Image.open(image_path).convert(\"L\")  # Convert to grayscale\n",
    "        cropped_img = center_crop(img, target_size=crop_size)  # Adjust the target size as needed\n",
    "        images.append(cropped_img)\n",
    "\n",
    "    # Merge images into a single numpy array\n",
    "    merged_image_array = merge_images(images)\n",
    "\n",
    "    # Display the thresholded merged image\n",
    "    fig, ax = plt.subplots(figsize=figsize)\n",
    "    ax.imshow(merged_image_array, cmap=\"gray\",vmin=0, vmax=255)\n",
    "    ax.axis(\"off\")\n",
    "    plt.show()\n"
   ]
  },
  {
   "cell_type": "code",
   "execution_count": 19,
   "metadata": {},
   "outputs": [
    {
     "data": {
      "image/png": "[encoded data removed]",
      "text/plain": [
       "<Figure size 200x300 with 1 Axes>"
      ]
     },
     "metadata": {},
     "output_type": "display_data"
    }
   ],
   "source": [
    "get_out_image(\"Apple\",figsize=(2,3))\n"
   ]
  }
 ],
 "metadata": {
  "kernelspec": {
   "display_name": "base",
   "language": "python",
   "name": "python3"
  },
  "language_info": {
   "codemirror_mode": {
    "name": "ipython",
    "version": 3
   },
   "file_extension": ".py",
   "mimetype": "text/x-python",
   "name": "python",
   "nbconvert_exporter": "python",
   "pygments_lexer": "ipython3",
   "version": "3.12.4"
  }
 },
 "nbformat": 4,
 "nbformat_minor": 2
}
